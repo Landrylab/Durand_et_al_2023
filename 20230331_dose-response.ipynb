{
 "cells": [
  {
   "cell_type": "markdown",
   "id": "a521c816-a3e1-418e-8df7-bf601a92dfdb",
   "metadata": {},
   "source": [
    "# Dose-response"
   ]
  },
  {
   "cell_type": "markdown",
   "id": "c7c7bea9-af32-4db6-8aed-239824f8c805",
   "metadata": {},
   "source": [
    "## Load packages"
   ]
  },
  {
   "cell_type": "code",
   "execution_count": 1,
   "id": "704e1031-5cdc-4178-875d-49e79e0e53b7",
   "metadata": {
    "tags": []
   },
   "outputs": [],
   "source": [
    "import pandas as pd\n",
    "import matplotlib.pyplot as plt\n",
    "%matplotlib inline\n",
    "import numpy as np\n",
    "import seaborn as sns"
   ]
  },
  {
   "cell_type": "markdown",
   "id": "c2b11295-f873-483f-aaf9-9f4b38ade840",
   "metadata": {},
   "source": [
    "## Specify filepaths"
   ]
  },
  {
   "cell_type": "code",
   "execution_count": 2,
   "id": "84fde023-65ca-4414-9c8e-01821b35db45",
   "metadata": {
    "tags": []
   },
   "outputs": [],
   "source": [
    "source_plate = 'data/20220315_plate.xlsx'\n",
    "plate_data = 'data/20220317_5fc_dose-response.xlsx'\n",
    "graph_outpath = 'graphs/'"
   ]
  },
  {
   "cell_type": "code",
   "execution_count": 3,
   "id": "64770765-6f24-43a1-bf15-b46c1fb40c24",
   "metadata": {
    "tags": []
   },
   "outputs": [
    {
     "data": {
      "text/html": [
       "<div>\n",
       "<style scoped>\n",
       "    .dataframe tbody tr th:only-of-type {\n",
       "        vertical-align: middle;\n",
       "    }\n",
       "\n",
       "    .dataframe tbody tr th {\n",
       "        vertical-align: top;\n",
       "    }\n",
       "\n",
       "    .dataframe thead th {\n",
       "        text-align: right;\n",
       "    }\n",
       "</style>\n",
       "<table border=\"1\" class=\"dataframe\">\n",
       "  <thead>\n",
       "    <tr style=\"text-align: right;\">\n",
       "      <th></th>\n",
       "      <th>well</th>\n",
       "      <th>compound</th>\n",
       "      <th>concentration</th>\n",
       "      <th>strain</th>\n",
       "      <th>genotype</th>\n",
       "      <th>replicate</th>\n",
       "    </tr>\n",
       "  </thead>\n",
       "  <tbody>\n",
       "    <tr>\n",
       "      <th>0</th>\n",
       "      <td>B2</td>\n",
       "      <td>5-FC</td>\n",
       "      <td>200.000000</td>\n",
       "      <td>LL13-040</td>\n",
       "      <td>WT</td>\n",
       "      <td>1</td>\n",
       "    </tr>\n",
       "    <tr>\n",
       "      <th>1</th>\n",
       "      <td>B3</td>\n",
       "      <td>5-FC</td>\n",
       "      <td>3.125000</td>\n",
       "      <td>LL13-040</td>\n",
       "      <td>WT</td>\n",
       "      <td>1</td>\n",
       "    </tr>\n",
       "    <tr>\n",
       "      <th>2</th>\n",
       "      <td>B4</td>\n",
       "      <td>5-FC</td>\n",
       "      <td>1.562500</td>\n",
       "      <td>LL13-040</td>\n",
       "      <td>WT</td>\n",
       "      <td>1</td>\n",
       "    </tr>\n",
       "    <tr>\n",
       "      <th>3</th>\n",
       "      <td>B5</td>\n",
       "      <td>5-FC</td>\n",
       "      <td>0.781250</td>\n",
       "      <td>LL13-040</td>\n",
       "      <td>WT</td>\n",
       "      <td>1</td>\n",
       "    </tr>\n",
       "    <tr>\n",
       "      <th>4</th>\n",
       "      <td>B6</td>\n",
       "      <td>5-FC</td>\n",
       "      <td>0.390625</td>\n",
       "      <td>LL13-040</td>\n",
       "      <td>WT</td>\n",
       "      <td>1</td>\n",
       "    </tr>\n",
       "    <tr>\n",
       "      <th>5</th>\n",
       "      <td>B7</td>\n",
       "      <td>5-FC</td>\n",
       "      <td>0.195312</td>\n",
       "      <td>LL13-040</td>\n",
       "      <td>WT</td>\n",
       "      <td>1</td>\n",
       "    </tr>\n",
       "  </tbody>\n",
       "</table>\n",
       "</div>"
      ],
      "text/plain": [
       "  well compound  concentration    strain genotype  replicate\n",
       "0   B2     5-FC     200.000000  LL13-040       WT          1\n",
       "1   B3     5-FC       3.125000  LL13-040       WT          1\n",
       "2   B4     5-FC       1.562500  LL13-040       WT          1\n",
       "3   B5     5-FC       0.781250  LL13-040       WT          1\n",
       "4   B6     5-FC       0.390625  LL13-040       WT          1\n",
       "5   B7     5-FC       0.195312  LL13-040       WT          1"
      ]
     },
     "execution_count": 3,
     "metadata": {},
     "output_type": "execute_result"
    }
   ],
   "source": [
    "plate_df = pd.read_excel(source_plate, header=0)\n",
    "plate_df.head(6)"
   ]
  },
  {
   "cell_type": "markdown",
   "id": "579fd7ba-ce2f-459e-a54d-b8edd61bc6af",
   "metadata": {},
   "source": [
    "## Get plate reader data"
   ]
  },
  {
   "cell_type": "code",
   "execution_count": 4,
   "id": "b9d00a60-6996-4208-b9d5-ef67801111f1",
   "metadata": {
    "tags": []
   },
   "outputs": [],
   "source": [
    "def get_data(fpath):\n",
    "    source_df = pd.read_excel(fpath, header=1, index_col=0,skiprows=[2],\n",
    "                              #skipfooter=34\n",
    "                             )\n",
    "    source_df.rename(columns=lambda x: float(x.strip('s'))/3600, inplace=True)\n",
    "    longdf = source_df.reset_index().rename(columns = {'index' : 'well'})\n",
    "    longdf = longdf.melt(id_vars = ['well'], var_name = 'time (h)', value_name = 'OD') # wide to long dataframe\n",
    "    return longdf"
   ]
  },
  {
   "cell_type": "code",
   "execution_count": 5,
   "id": "e9965d16-f597-4c6b-b7d2-c532dcaac765",
   "metadata": {
    "tags": []
   },
   "outputs": [
    {
     "data": {
      "text/html": [
       "<div>\n",
       "<style scoped>\n",
       "    .dataframe tbody tr th:only-of-type {\n",
       "        vertical-align: middle;\n",
       "    }\n",
       "\n",
       "    .dataframe tbody tr th {\n",
       "        vertical-align: top;\n",
       "    }\n",
       "\n",
       "    .dataframe thead th {\n",
       "        text-align: right;\n",
       "    }\n",
       "</style>\n",
       "<table border=\"1\" class=\"dataframe\">\n",
       "  <thead>\n",
       "    <tr style=\"text-align: right;\">\n",
       "      <th></th>\n",
       "      <th>well</th>\n",
       "      <th>time (h)</th>\n",
       "      <th>OD</th>\n",
       "    </tr>\n",
       "  </thead>\n",
       "  <tbody>\n",
       "    <tr>\n",
       "      <th>0</th>\n",
       "      <td>B2</td>\n",
       "      <td>0.0</td>\n",
       "      <td>0.092850</td>\n",
       "    </tr>\n",
       "    <tr>\n",
       "      <th>1</th>\n",
       "      <td>B3</td>\n",
       "      <td>0.0</td>\n",
       "      <td>0.094875</td>\n",
       "    </tr>\n",
       "    <tr>\n",
       "      <th>2</th>\n",
       "      <td>B4</td>\n",
       "      <td>0.0</td>\n",
       "      <td>0.094400</td>\n",
       "    </tr>\n",
       "    <tr>\n",
       "      <th>3</th>\n",
       "      <td>B5</td>\n",
       "      <td>0.0</td>\n",
       "      <td>0.094700</td>\n",
       "    </tr>\n",
       "    <tr>\n",
       "      <th>4</th>\n",
       "      <td>B6</td>\n",
       "      <td>0.0</td>\n",
       "      <td>0.095500</td>\n",
       "    </tr>\n",
       "    <tr>\n",
       "      <th>5</th>\n",
       "      <td>B7</td>\n",
       "      <td>0.0</td>\n",
       "      <td>0.093675</td>\n",
       "    </tr>\n",
       "  </tbody>\n",
       "</table>\n",
       "</div>"
      ],
      "text/plain": [
       "  well time (h)        OD\n",
       "0   B2      0.0  0.092850\n",
       "1   B3      0.0  0.094875\n",
       "2   B4      0.0  0.094400\n",
       "3   B5      0.0  0.094700\n",
       "4   B6      0.0  0.095500\n",
       "5   B7      0.0  0.093675"
      ]
     },
     "execution_count": 5,
     "metadata": {},
     "output_type": "execute_result"
    }
   ],
   "source": [
    "df = get_data(plate_data)\n",
    "df.head(6)"
   ]
  },
  {
   "cell_type": "code",
   "execution_count": 6,
   "id": "c139762f-8903-40b3-a965-ea447a6d302e",
   "metadata": {
    "tags": []
   },
   "outputs": [
    {
     "data": {
      "text/html": [
       "<div>\n",
       "<style scoped>\n",
       "    .dataframe tbody tr th:only-of-type {\n",
       "        vertical-align: middle;\n",
       "    }\n",
       "\n",
       "    .dataframe tbody tr th {\n",
       "        vertical-align: top;\n",
       "    }\n",
       "\n",
       "    .dataframe thead th {\n",
       "        text-align: right;\n",
       "    }\n",
       "</style>\n",
       "<table border=\"1\" class=\"dataframe\">\n",
       "  <thead>\n",
       "    <tr style=\"text-align: right;\">\n",
       "      <th></th>\n",
       "      <th>well</th>\n",
       "      <th>time (h)</th>\n",
       "      <th>OD</th>\n",
       "      <th>compound</th>\n",
       "      <th>concentration</th>\n",
       "      <th>strain</th>\n",
       "      <th>genotype</th>\n",
       "      <th>replicate</th>\n",
       "    </tr>\n",
       "  </thead>\n",
       "  <tbody>\n",
       "    <tr>\n",
       "      <th>0</th>\n",
       "      <td>B2</td>\n",
       "      <td>0.0</td>\n",
       "      <td>0.092850</td>\n",
       "      <td>5-FC</td>\n",
       "      <td>200.0</td>\n",
       "      <td>LL13-040</td>\n",
       "      <td>WT</td>\n",
       "      <td>1</td>\n",
       "    </tr>\n",
       "    <tr>\n",
       "      <th>1</th>\n",
       "      <td>B2</td>\n",
       "      <td>0.25</td>\n",
       "      <td>0.097100</td>\n",
       "      <td>5-FC</td>\n",
       "      <td>200.0</td>\n",
       "      <td>LL13-040</td>\n",
       "      <td>WT</td>\n",
       "      <td>1</td>\n",
       "    </tr>\n",
       "    <tr>\n",
       "      <th>2</th>\n",
       "      <td>B2</td>\n",
       "      <td>0.5</td>\n",
       "      <td>0.098250</td>\n",
       "      <td>5-FC</td>\n",
       "      <td>200.0</td>\n",
       "      <td>LL13-040</td>\n",
       "      <td>WT</td>\n",
       "      <td>1</td>\n",
       "    </tr>\n",
       "    <tr>\n",
       "      <th>3</th>\n",
       "      <td>B2</td>\n",
       "      <td>0.75</td>\n",
       "      <td>0.098475</td>\n",
       "      <td>5-FC</td>\n",
       "      <td>200.0</td>\n",
       "      <td>LL13-040</td>\n",
       "      <td>WT</td>\n",
       "      <td>1</td>\n",
       "    </tr>\n",
       "    <tr>\n",
       "      <th>4</th>\n",
       "      <td>B2</td>\n",
       "      <td>1.0</td>\n",
       "      <td>0.098500</td>\n",
       "      <td>5-FC</td>\n",
       "      <td>200.0</td>\n",
       "      <td>LL13-040</td>\n",
       "      <td>WT</td>\n",
       "      <td>1</td>\n",
       "    </tr>\n",
       "    <tr>\n",
       "      <th>5</th>\n",
       "      <td>B2</td>\n",
       "      <td>1.250278</td>\n",
       "      <td>0.098800</td>\n",
       "      <td>5-FC</td>\n",
       "      <td>200.0</td>\n",
       "      <td>LL13-040</td>\n",
       "      <td>WT</td>\n",
       "      <td>1</td>\n",
       "    </tr>\n",
       "  </tbody>\n",
       "</table>\n",
       "</div>"
      ],
      "text/plain": [
       "  well  time (h)        OD compound  concentration    strain genotype  \\\n",
       "0   B2       0.0  0.092850     5-FC          200.0  LL13-040       WT   \n",
       "1   B2      0.25  0.097100     5-FC          200.0  LL13-040       WT   \n",
       "2   B2       0.5  0.098250     5-FC          200.0  LL13-040       WT   \n",
       "3   B2      0.75  0.098475     5-FC          200.0  LL13-040       WT   \n",
       "4   B2       1.0  0.098500     5-FC          200.0  LL13-040       WT   \n",
       "5   B2  1.250278  0.098800     5-FC          200.0  LL13-040       WT   \n",
       "\n",
       "   replicate  \n",
       "0          1  \n",
       "1          1  \n",
       "2          1  \n",
       "3          1  \n",
       "4          1  \n",
       "5          1  "
      ]
     },
     "execution_count": 6,
     "metadata": {},
     "output_type": "execute_result"
    }
   ],
   "source": [
    "merged = df.merge(right=plate_df, on=['well'])\n",
    "merged.head(6)"
   ]
  },
  {
   "cell_type": "markdown",
   "id": "4bd4f94c-5ab4-4d2b-9f93-aeb6c818a64d",
   "metadata": {},
   "source": [
    "## Calculate growth rate"
   ]
  },
  {
   "cell_type": "code",
   "execution_count": 7,
   "id": "466e01dd-30f8-42ee-8318-6a0769fd5826",
   "metadata": {
    "tags": []
   },
   "outputs": [],
   "source": [
    "def get_growth_rate(g):\n",
    "    # rate is multiplied by 4 to convert from /15min (measurements every 15 min) to /h\n",
    "    data_diff = g.OD.diff()*4\n",
    "    get_top_5 = data_diff.nlargest(5)    \n",
    "    growth_rate = np.median(get_top_5)\n",
    "    return growth_rate"
   ]
  },
  {
   "cell_type": "code",
   "execution_count": 8,
   "id": "847f286b-ccb1-4317-8939-be5efa03e150",
   "metadata": {
    "tags": []
   },
   "outputs": [
    {
     "data": {
      "text/html": [
       "<div>\n",
       "<style scoped>\n",
       "    .dataframe tbody tr th:only-of-type {\n",
       "        vertical-align: middle;\n",
       "    }\n",
       "\n",
       "    .dataframe tbody tr th {\n",
       "        vertical-align: top;\n",
       "    }\n",
       "\n",
       "    .dataframe thead th {\n",
       "        text-align: right;\n",
       "    }\n",
       "</style>\n",
       "<table border=\"1\" class=\"dataframe\">\n",
       "  <thead>\n",
       "    <tr style=\"text-align: right;\">\n",
       "      <th></th>\n",
       "      <th>strain</th>\n",
       "      <th>concentration</th>\n",
       "      <th>well</th>\n",
       "      <th>growth_rate</th>\n",
       "    </tr>\n",
       "  </thead>\n",
       "  <tbody>\n",
       "    <tr>\n",
       "      <th>0</th>\n",
       "      <td>LL13-040</td>\n",
       "      <td>0.000000</td>\n",
       "      <td>B11</td>\n",
       "      <td>0.12652</td>\n",
       "    </tr>\n",
       "    <tr>\n",
       "      <th>1</th>\n",
       "      <td>LL13-040</td>\n",
       "      <td>0.000000</td>\n",
       "      <td>C11</td>\n",
       "      <td>0.12828</td>\n",
       "    </tr>\n",
       "    <tr>\n",
       "      <th>2</th>\n",
       "      <td>LL13-040</td>\n",
       "      <td>0.000000</td>\n",
       "      <td>D11</td>\n",
       "      <td>0.12284</td>\n",
       "    </tr>\n",
       "    <tr>\n",
       "      <th>3</th>\n",
       "      <td>LL13-040</td>\n",
       "      <td>0.024414</td>\n",
       "      <td>B10</td>\n",
       "      <td>0.11808</td>\n",
       "    </tr>\n",
       "    <tr>\n",
       "      <th>4</th>\n",
       "      <td>LL13-040</td>\n",
       "      <td>0.024414</td>\n",
       "      <td>C10</td>\n",
       "      <td>0.11820</td>\n",
       "    </tr>\n",
       "    <tr>\n",
       "      <th>5</th>\n",
       "      <td>LL13-040</td>\n",
       "      <td>0.024414</td>\n",
       "      <td>D10</td>\n",
       "      <td>0.11620</td>\n",
       "    </tr>\n",
       "  </tbody>\n",
       "</table>\n",
       "</div>"
      ],
      "text/plain": [
       "     strain  concentration well  growth_rate\n",
       "0  LL13-040       0.000000  B11      0.12652\n",
       "1  LL13-040       0.000000  C11      0.12828\n",
       "2  LL13-040       0.000000  D11      0.12284\n",
       "3  LL13-040       0.024414  B10      0.11808\n",
       "4  LL13-040       0.024414  C10      0.11820\n",
       "5  LL13-040       0.024414  D10      0.11620"
      ]
     },
     "execution_count": 8,
     "metadata": {},
     "output_type": "execute_result"
    }
   ],
   "source": [
    "gr = merged.groupby(['strain','concentration','well'])[['OD']].apply(func=get_growth_rate).reset_index(name='growth_rate')\n",
    "gr.head(6)"
   ]
  },
  {
   "cell_type": "code",
   "execution_count": 9,
   "id": "46f9b213-bdd7-4661-b0d4-40d727a42fd0",
   "metadata": {
    "tags": []
   },
   "outputs": [
    {
     "data": {
      "text/plain": [
       "{'LL13-040': 0.12827999999999973, 'NC-02': 0.13240000000000007}"
      ]
     },
     "execution_count": 9,
     "metadata": {},
     "output_type": "execute_result"
    }
   ],
   "source": [
    "max_vals = {}\n",
    "for s in gr.strain.unique():\n",
    "    max_vals[s] = gr.loc[gr.strain == s, 'growth_rate'].max()\n",
    "max_vals"
   ]
  },
  {
   "cell_type": "code",
   "execution_count": 10,
   "id": "caab7fa1-eadf-4607-b4ac-0a1328e99858",
   "metadata": {
    "tags": []
   },
   "outputs": [
    {
     "data": {
      "text/html": [
       "<div>\n",
       "<style scoped>\n",
       "    .dataframe tbody tr th:only-of-type {\n",
       "        vertical-align: middle;\n",
       "    }\n",
       "\n",
       "    .dataframe tbody tr th {\n",
       "        vertical-align: top;\n",
       "    }\n",
       "\n",
       "    .dataframe thead th {\n",
       "        text-align: right;\n",
       "    }\n",
       "</style>\n",
       "<table border=\"1\" class=\"dataframe\">\n",
       "  <thead>\n",
       "    <tr style=\"text-align: right;\">\n",
       "      <th></th>\n",
       "      <th>strain</th>\n",
       "      <th>concentration</th>\n",
       "      <th>well</th>\n",
       "      <th>growth_rate</th>\n",
       "      <th>ic</th>\n",
       "      <th>norm_gr</th>\n",
       "    </tr>\n",
       "  </thead>\n",
       "  <tbody>\n",
       "    <tr>\n",
       "      <th>3</th>\n",
       "      <td>LL13-040</td>\n",
       "      <td>0.024414</td>\n",
       "      <td>B10</td>\n",
       "      <td>0.11808</td>\n",
       "      <td>0.079514</td>\n",
       "      <td>0.920486</td>\n",
       "    </tr>\n",
       "    <tr>\n",
       "      <th>4</th>\n",
       "      <td>LL13-040</td>\n",
       "      <td>0.024414</td>\n",
       "      <td>C10</td>\n",
       "      <td>0.11820</td>\n",
       "      <td>0.078578</td>\n",
       "      <td>0.921422</td>\n",
       "    </tr>\n",
       "    <tr>\n",
       "      <th>5</th>\n",
       "      <td>LL13-040</td>\n",
       "      <td>0.024414</td>\n",
       "      <td>D10</td>\n",
       "      <td>0.11620</td>\n",
       "      <td>0.094169</td>\n",
       "      <td>0.905831</td>\n",
       "    </tr>\n",
       "  </tbody>\n",
       "</table>\n",
       "</div>"
      ],
      "text/plain": [
       "     strain  concentration well  growth_rate        ic   norm_gr\n",
       "3  LL13-040       0.024414  B10      0.11808  0.079514  0.920486\n",
       "4  LL13-040       0.024414  C10      0.11820  0.078578  0.921422\n",
       "5  LL13-040       0.024414  D10      0.11620  0.094169  0.905831"
      ]
     },
     "execution_count": 10,
     "metadata": {},
     "output_type": "execute_result"
    }
   ],
   "source": [
    "gr['ic'] = gr.apply(lambda row: (max_vals[row.strain] - row.growth_rate) / max_vals[row.strain], axis=1)\n",
    "gr.drop(gr[gr.concentration==0].index, inplace=True)\n",
    "gr['norm_gr'] = 1-gr['ic']\n",
    "gr.head(3)"
   ]
  },
  {
   "cell_type": "code",
   "execution_count": 23,
   "id": "5cddb82d-edda-43a7-9039-efc610a9ba6b",
   "metadata": {
    "tags": []
   },
   "outputs": [
    {
     "data": {
      "text/html": [
       "<div>\n",
       "<style scoped>\n",
       "    .dataframe tbody tr th:only-of-type {\n",
       "        vertical-align: middle;\n",
       "    }\n",
       "\n",
       "    .dataframe tbody tr th {\n",
       "        vertical-align: top;\n",
       "    }\n",
       "\n",
       "    .dataframe thead tr th {\n",
       "        text-align: left;\n",
       "    }\n",
       "\n",
       "    .dataframe thead tr:last-of-type th {\n",
       "        text-align: right;\n",
       "    }\n",
       "</style>\n",
       "<table border=\"1\" class=\"dataframe\">\n",
       "  <thead>\n",
       "    <tr>\n",
       "      <th></th>\n",
       "      <th></th>\n",
       "      <th colspan=\"2\" halign=\"left\">ic</th>\n",
       "    </tr>\n",
       "    <tr>\n",
       "      <th></th>\n",
       "      <th></th>\n",
       "      <th>mean</th>\n",
       "      <th>std</th>\n",
       "    </tr>\n",
       "    <tr>\n",
       "      <th>strain</th>\n",
       "      <th>concentration</th>\n",
       "      <th></th>\n",
       "      <th></th>\n",
       "    </tr>\n",
       "  </thead>\n",
       "  <tbody>\n",
       "    <tr>\n",
       "      <th>LL13-040</th>\n",
       "      <th>1.5625</th>\n",
       "      <td>0.935142</td>\n",
       "      <td>0.008173</td>\n",
       "    </tr>\n",
       "    <tr>\n",
       "      <th>NC-02</th>\n",
       "      <th>1.5625</th>\n",
       "      <td>0.918026</td>\n",
       "      <td>0.003328</td>\n",
       "    </tr>\n",
       "  </tbody>\n",
       "</table>\n",
       "</div>"
      ],
      "text/plain": [
       "                              ic          \n",
       "                            mean       std\n",
       "strain   concentration                    \n",
       "LL13-040 1.5625         0.935142  0.008173\n",
       "NC-02    1.5625         0.918026  0.003328"
      ]
     },
     "execution_count": 23,
     "metadata": {},
     "output_type": "execute_result"
    }
   ],
   "source": [
    "# Average inhibition coefficient at 1.5625 ug/mL 5-FC for each strain\n",
    "gr[gr.concentration==1.5625].groupby(['strain','concentration']).agg({'ic': ['mean', 'std']})"
   ]
  },
  {
   "cell_type": "markdown",
   "id": "6cfdb9ec-3f86-42ab-bfeb-7c11700b205b",
   "metadata": {},
   "source": [
    "## Get Hill equation fit"
   ]
  },
  {
   "cell_type": "code",
   "execution_count": 11,
   "id": "240dbaaf-d479-4908-8c4b-88167acf59e5",
   "metadata": {
    "tags": []
   },
   "outputs": [],
   "source": [
    "def hill_equation(x, E, n):\n",
    "    # this function defines the hill equation, where:\n",
    "    # x is the drug concentration\n",
    "    # E is the concentration with half effect (IC50)\n",
    "    # n is the hill coefficient,    \n",
    "    return 1/(1+((E/x)**n))"
   ]
  },
  {
   "cell_type": "code",
   "execution_count": 145,
   "id": "1854c4bd-af24-4e09-aedf-7cdfab573269",
   "metadata": {
    "collapsed": true,
    "jupyter": {
     "outputs_hidden": true,
     "source_hidden": true
    },
    "tags": []
   },
   "outputs": [
    {
     "data": {
      "image/png": "[encoded data removed]",
      "text/plain": [
       "<Figure size 640x480 with 1 Axes>"
      ]
     },
     "metadata": {},
     "output_type": "display_data"
    }
   ],
   "source": [
    "x = np.linspace(0.02, 4, 100)\n",
    "plt.plot(x, hill_equation(x, 0.2, 3.48), color='red')\n",
    "plt.xscale('log', base=2)"
   ]
  },
  {
   "cell_type": "code",
   "execution_count": 12,
   "id": "b126be72-162c-4573-864c-6f8eeccd5f25",
   "metadata": {
    "tags": []
   },
   "outputs": [],
   "source": [
    "import scipy as sci\n",
    "\n",
    "def get_fit(eq, xy_data, x_col, y_col, spec_col, spec_val):\n",
    "    # Retrieve x and y values\n",
    "    x_val = xy_data.loc[xy_data[spec_col] == spec_val, x_col].values\n",
    "    y_val = xy_data.loc[xy_data[spec_col] == spec_val, y_col].values\n",
    "    # Get best fit parameters (popt) and covariance matrix (pcov)\n",
    "    popt, pcov = sci.optimize.curve_fit(eq, x_val, y_val, p0=[0.05,2.6])\n",
    "    return popt"
   ]
  },
  {
   "cell_type": "code",
   "execution_count": 13,
   "id": "af97458b-ee05-4912-9a21-8dee5edc4625",
   "metadata": {
    "tags": []
   },
   "outputs": [
    {
     "name": "stdout",
     "output_type": "stream",
     "text": [
      "{'LL13-040': array([0.26501792, 1.18522884]), 'NC-02': array([0.23133895, 1.27893839])}\n"
     ]
    }
   ],
   "source": [
    "coeffs = {}\n",
    "for s in gr.strain.unique():\n",
    "    coeffs[s] = get_fit(hill_equation, xy_data=gr.groupby(['strain','concentration'])[['ic']].mean().reset_index(),\n",
    "                           x_col='concentration', y_col='ic',\n",
    "                           spec_col='strain', spec_val=s)\n",
    "print(coeffs)"
   ]
  },
  {
   "cell_type": "code",
   "execution_count": 14,
   "id": "6770eafe-4cf5-438a-b4e8-138a9cd65464",
   "metadata": {
    "tags": []
   },
   "outputs": [],
   "source": [
    "fit_vals = np.logspace(np.log2(gr.concentration.min()),np.log2(gr.concentration.max()), num=50, base=2)"
   ]
  },
  {
   "cell_type": "markdown",
   "id": "182bed44-da2c-4fce-9265-b066e5b42426",
   "metadata": {},
   "source": [
    "## Growth curves"
   ]
  },
  {
   "cell_type": "code",
   "execution_count": 34,
   "id": "f1c81e0d-4e9b-46d0-a953-2b2ed1f05bb4",
   "metadata": {
    "tags": []
   },
   "outputs": [
    {
     "data": {
      "image/png": "[encoded data removed]",
      "text/plain": [
       "<Figure size 1000x500 with 2 Axes>"
      ]
     },
     "metadata": {},
     "output_type": "display_data"
    }
   ],
   "source": [
    "from matplotlib.ticker import FormatStrFormatter\n",
    "\n",
    "fig = sns.relplot(data=gr, x='concentration', y='norm_gr', col='strain', height=5)\n",
    "plt.xscale('log',base=2)\n",
    "fig.set(xticks=gr.concentration.unique(),\n",
    "        xlim=(0.015,6))\n",
    "fig.axes[0][0].set_xticklabels(gr.concentration.unique())\n",
    "fig.axes[0][0].xaxis.set_major_formatter(FormatStrFormatter('%.2f'))\n",
    "\n",
    "for i, v in enumerate(gr.strain.unique()):\n",
    "    fig.axes[0][i].plot(fit_vals, [1 - hill_equation(x, coeffs[v][0], coeffs[v][1]) for x in fit_vals], 'k-', linewidth=0.5)\n",
    "    fig.axes[0][i].annotate('IC50 = {:.2f} μg/mL'.format(coeffs[v][0]),(.02,.5))\n",
    "    fig.axes[0][i].annotate('Hill coeff. = {:.1f}'.format(coeffs[v][1]),(.02,.45))\n",
    "    \n",
    "fig.set_titles(col_template='{col_name}')\n",
    "fig.set_axis_labels('Concentration (μg/mL)', 'Relative growth rate')\n",
    "fig.tight_layout()\n",
    "plt.savefig(graph_outpath+'20230331_dose-response.svg', format='svg', dpi=300)\n",
    "plt.savefig(graph_outpath+'20230331_dose-response.png', format='png', dpi=300)"
   ]
  },
  {
   "cell_type": "code",
   "execution_count": null,
   "id": "34b6295f-291e-4e4a-9197-e97653bba506",
   "metadata": {},
   "outputs": [],
   "source": []
  }
 ],
 "metadata": {
  "kernelspec": {
   "display_name": "Python 3 (ipykernel)",
   "language": "python",
   "name": "python3"
  },
  "language_info": {
   "codemirror_mode": {
    "name": "ipython",
    "version": 3
   },
   "file_extension": ".py",
   "mimetype": "text/x-python",
   "name": "python",
   "nbconvert_exporter": "python",
   "pygments_lexer": "ipython3",
   "version": "3.8.16"
  }
 },
 "nbformat": 4,
 "nbformat_minor": 5
}
