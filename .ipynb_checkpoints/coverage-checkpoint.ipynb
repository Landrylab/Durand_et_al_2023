{
 "cells": [
  {
   "cell_type": "markdown",
   "id": "4b6589ff-864e-45e3-9ab6-de7c05c2a199",
   "metadata": {},
   "source": [
    "# Coverage"
   ]
  },
  {
   "cell_type": "markdown",
   "id": "4f00b8e6-b73c-46d6-b2e4-f2e388a3844f",
   "metadata": {},
   "source": [
    "Read depth per position for each sample was obtained during the `snakemake` pipeline.\n",
    "\n",
    "The following script was used to generate a single dataframe recapitulating the coverage over 2-kb windows for all samples."
   ]
  },
  {
   "cell_type": "markdown",
   "id": "894d8926-1494-4cbc-87b3-85e47daff4e9",
   "metadata": {},
   "source": [
    "```\n",
    "import pandas as pd\n",
    "import numpy as np\n",
    "import glob as glob\n",
    "\n",
    "cov_files = glob.glob('../data/B*.sorted.depth.out')\n",
    "\n",
    "start=1\n",
    "by=1000\n",
    "win=2000\n",
    "R = []\n",
    "for samplefile in cov_files:\n",
    "    df = pd.read_csv(samplefile, sep = '\\t', header = None, names = ['chrom','pos','cov'])\n",
    "    sampleID = samplefile.split('/')[-1].split('.')[0]\n",
    "    dgroup = df.groupby(['chrom']).rolling(window=win,on='pos')['cov'].mean()[start::by].reset_index()\n",
    "    dgroup['sampleID'] = sampleID\n",
    "    R.append(dgroup)\n",
    "dR = pd.concat(R)\n",
    "\n",
    "#dR.to_csv('getWindows.out')\n",
    "\n",
    "for s in dR.sampleID.unique():\n",
    "    dR[dR.sampleID == s].to_csv('..data/coverage/'+ s +'_2kb_win.out')\n",
    "```"
   ]
  },
  {
   "cell_type": "code",
   "execution_count": 5,
   "id": "03d57408-d346-4784-a54e-100835f36587",
   "metadata": {
    "tags": []
   },
   "outputs": [],
   "source": [
    "import pandas as pd\n",
    "import seaborn as sns\n",
    "import glob"
   ]
  },
  {
   "cell_type": "code",
   "execution_count": 8,
   "id": "c623d2f4-ad2b-4b7c-bf64-74b8685ae39c",
   "metadata": {
    "tags": []
   },
   "outputs": [
    {
     "data": {
      "text/html": [
       "<div>\n",
       "<style scoped>\n",
       "    .dataframe tbody tr th:only-of-type {\n",
       "        vertical-align: middle;\n",
       "    }\n",
       "\n",
       "    .dataframe tbody tr th {\n",
       "        vertical-align: top;\n",
       "    }\n",
       "\n",
       "    .dataframe thead th {\n",
       "        text-align: right;\n",
       "    }\n",
       "</style>\n",
       "<table border=\"1\" class=\"dataframe\">\n",
       "  <thead>\n",
       "    <tr style=\"text-align: right;\">\n",
       "      <th></th>\n",
       "      <th>chrom</th>\n",
       "      <th>pos</th>\n",
       "      <th>cov</th>\n",
       "      <th>sampleID</th>\n",
       "    </tr>\n",
       "  </thead>\n",
       "  <tbody>\n",
       "    <tr>\n",
       "      <th>2</th>\n",
       "      <td>chrI</td>\n",
       "      <td>2001</td>\n",
       "      <td>133.4105</td>\n",
       "      <td>B10</td>\n",
       "    </tr>\n",
       "    <tr>\n",
       "      <th>3</th>\n",
       "      <td>chrI</td>\n",
       "      <td>3001</td>\n",
       "      <td>95.6150</td>\n",
       "      <td>B10</td>\n",
       "    </tr>\n",
       "    <tr>\n",
       "      <th>4</th>\n",
       "      <td>chrI</td>\n",
       "      <td>4001</td>\n",
       "      <td>65.2060</td>\n",
       "      <td>B10</td>\n",
       "    </tr>\n",
       "    <tr>\n",
       "      <th>5</th>\n",
       "      <td>chrI</td>\n",
       "      <td>5001</td>\n",
       "      <td>54.6660</td>\n",
       "      <td>B10</td>\n",
       "    </tr>\n",
       "    <tr>\n",
       "      <th>6</th>\n",
       "      <td>chrI</td>\n",
       "      <td>6001</td>\n",
       "      <td>74.1120</td>\n",
       "      <td>B10</td>\n",
       "    </tr>\n",
       "    <tr>\n",
       "      <th>...</th>\n",
       "      <td>...</td>\n",
       "      <td>...</td>\n",
       "      <td>...</td>\n",
       "      <td>...</td>\n",
       "    </tr>\n",
       "    <tr>\n",
       "      <th>12153</th>\n",
       "      <td>chrmt</td>\n",
       "      <td>12153001</td>\n",
       "      <td>39.1455</td>\n",
       "      <td>O9</td>\n",
       "    </tr>\n",
       "    <tr>\n",
       "      <th>12154</th>\n",
       "      <td>chrmt</td>\n",
       "      <td>12154001</td>\n",
       "      <td>20.7335</td>\n",
       "      <td>O9</td>\n",
       "    </tr>\n",
       "    <tr>\n",
       "      <th>12155</th>\n",
       "      <td>chrmt</td>\n",
       "      <td>12155001</td>\n",
       "      <td>17.9610</td>\n",
       "      <td>O9</td>\n",
       "    </tr>\n",
       "    <tr>\n",
       "      <th>12156</th>\n",
       "      <td>chrmt</td>\n",
       "      <td>12156001</td>\n",
       "      <td>3.5565</td>\n",
       "      <td>O9</td>\n",
       "    </tr>\n",
       "    <tr>\n",
       "      <th>12157</th>\n",
       "      <td>chrmt</td>\n",
       "      <td>12157001</td>\n",
       "      <td>2.9775</td>\n",
       "      <td>O9</td>\n",
       "    </tr>\n",
       "  </tbody>\n",
       "</table>\n",
       "<p>3418968 rows × 4 columns</p>\n",
       "</div>"
      ],
      "text/plain": [
       "       chrom       pos       cov sampleID\n",
       "2       chrI      2001  133.4105      B10\n",
       "3       chrI      3001   95.6150      B10\n",
       "4       chrI      4001   65.2060      B10\n",
       "5       chrI      5001   54.6660      B10\n",
       "6       chrI      6001   74.1120      B10\n",
       "...      ...       ...       ...      ...\n",
       "12153  chrmt  12153001   39.1455       O9\n",
       "12154  chrmt  12154001   20.7335       O9\n",
       "12155  chrmt  12155001   17.9610       O9\n",
       "12156  chrmt  12156001    3.5565       O9\n",
       "12157  chrmt  12157001    2.9775       O9\n",
       "\n",
       "[3418968 rows x 4 columns]"
      ]
     },
     "execution_count": 8,
     "metadata": {},
     "output_type": "execute_result"
    }
   ],
   "source": [
    "list_df = []\n",
    "for i in glob.glob('data/coverage/*'):\n",
    "    df = pd.read_csv(i, index_col=0)\n",
    "    list_df.append(df)\n",
    "\n",
    "dR = pd.concat(list_df)\n",
    "dR"
   ]
  },
  {
   "cell_type": "code",
   "execution_count": 9,
   "id": "e4ed2937-4f49-4695-b8ff-21a6dff6d8bb",
   "metadata": {
    "tags": []
   },
   "outputs": [
    {
     "data": {
      "text/plain": [
       "cov    61.140297\n",
       "dtype: float64"
      ]
     },
     "execution_count": 9,
     "metadata": {},
     "output_type": "execute_result"
    }
   ],
   "source": [
    "dR[['cov']].mean()"
   ]
  },
  {
   "cell_type": "code",
   "execution_count": null,
   "id": "409c0672-8ab4-4597-bf78-d714563ee4a0",
   "metadata": {},
   "outputs": [],
   "source": []
  }
 ],
 "metadata": {
  "kernelspec": {
   "display_name": "Python 3 (ipykernel)",
   "language": "python",
   "name": "python3"
  },
  "language_info": {
   "codemirror_mode": {
    "name": "ipython",
    "version": 3
   },
   "file_extension": ".py",
   "mimetype": "text/x-python",
   "name": "python",
   "nbconvert_exporter": "python",
   "pygments_lexer": "ipython3",
   "version": "3.8.16"
  }
 },
 "nbformat": 4,
 "nbformat_minor": 5
}
